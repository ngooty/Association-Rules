{
 "cells": [
  {
   "cell_type": "code",
   "execution_count": 1,
   "metadata": {},
   "outputs": [
    {
     "data": {
      "text/plain": [
       "'/Users/Edureka'"
      ]
     },
     "execution_count": 1,
     "metadata": {},
     "output_type": "execute_result"
    }
   ],
   "source": [
    "import pandas as pd\n",
    "import numpy as np\n",
    "import matplotlib.pyplot as plt\n",
    "import os\n",
    "from apyori import apriori\n",
    "%matplotlib inline\n",
    "os.getcwd()"
   ]
  },
  {
   "cell_type": "code",
   "execution_count": 2,
   "metadata": {},
   "outputs": [],
   "source": [
    "store=pd.read_csv('store_data.csv',header=None)"
   ]
  },
  {
   "cell_type": "markdown",
   "metadata": {},
   "source": [
    "### Dataset is a sparse dataset which means it has many null/nan values"
   ]
  },
  {
   "cell_type": "code",
   "execution_count": null,
   "metadata": {},
   "outputs": [],
   "source": []
  },
  {
   "cell_type": "markdown",
   "metadata": {},
   "source": [
    "### For Association Rules, the dataset should be a transaction dataset\n",
    "So we convert the store dataset into list of lists/transaction dataset"
   ]
  },
  {
   "cell_type": "code",
   "execution_count": 3,
   "metadata": {},
   "outputs": [],
   "source": [
    "records = []\n",
    "for i in range(0, 7501):\n",
    "    records.append([str(store.values[i,j]) for j in range(0, 20)])"
   ]
  },
  {
   "cell_type": "code",
   "execution_count": 4,
   "metadata": {},
   "outputs": [
    {
     "data": {
      "text/plain": [
       "['shrimp',\n",
       " 'almonds',\n",
       " 'avocado',\n",
       " 'vegetables mix',\n",
       " 'green grapes',\n",
       " 'whole weat flour',\n",
       " 'yams',\n",
       " 'cottage cheese',\n",
       " 'energy drink',\n",
       " 'tomato juice',\n",
       " 'low fat yogurt',\n",
       " 'green tea',\n",
       " 'honey',\n",
       " 'salad',\n",
       " 'mineral water',\n",
       " 'salmon',\n",
       " 'antioxydant juice',\n",
       " 'frozen smoothie',\n",
       " 'spinach',\n",
       " 'olive oil']"
      ]
     },
     "execution_count": 4,
     "metadata": {},
     "output_type": "execute_result"
    }
   ],
   "source": [
    "records[0]"
   ]
  },
  {
   "cell_type": "markdown",
   "metadata": {},
   "source": [
    "### For apriori algorithm, we need to pass min support, min confident and min lift values"
   ]
  },
  {
   "cell_type": "code",
   "execution_count": 5,
   "metadata": {},
   "outputs": [],
   "source": [
    "#association_rules=apriori(records,min_support=0.005,min_confidence=0.2,min_lift=1,min_lenght=2)\n",
    "association_rules=apriori(records, min_support=0.0045, min_confidence=0.2, min_lift=3, min_length=2)\n",
    "rules=list(association_rules)"
   ]
  },
  {
   "cell_type": "code",
   "execution_count": 6,
   "metadata": {},
   "outputs": [
    {
     "data": {
      "text/plain": [
       "48"
      ]
     },
     "execution_count": 6,
     "metadata": {},
     "output_type": "execute_result"
    }
   ],
   "source": [
    "len(rules)"
   ]
  },
  {
   "cell_type": "code",
   "execution_count": 7,
   "metadata": {},
   "outputs": [
    {
     "data": {
      "text/plain": [
       "[RelationRecord(items=frozenset({'escalope', 'mushroom cream sauce'}), support=0.005732568990801226, ordered_statistics=[OrderedStatistic(items_base=frozenset({'mushroom cream sauce'}), items_add=frozenset({'escalope'}), confidence=0.3006993006993007, lift=3.790832696715049)]),\n",
       " RelationRecord(items=frozenset({'pasta', 'escalope'}), support=0.005865884548726837, ordered_statistics=[OrderedStatistic(items_base=frozenset({'pasta'}), items_add=frozenset({'escalope'}), confidence=0.3728813559322034, lift=4.700811850163794)]),\n",
       " RelationRecord(items=frozenset({'ground beef', 'herb & pepper'}), support=0.015997866951073192, ordered_statistics=[OrderedStatistic(items_base=frozenset({'herb & pepper'}), items_add=frozenset({'ground beef'}), confidence=0.3234501347708895, lift=3.2919938411349285)]),\n",
       " RelationRecord(items=frozenset({'ground beef', 'tomato sauce'}), support=0.005332622317024397, ordered_statistics=[OrderedStatistic(items_base=frozenset({'tomato sauce'}), items_add=frozenset({'ground beef'}), confidence=0.3773584905660377, lift=3.840659481324083)])]"
      ]
     },
     "execution_count": 7,
     "metadata": {},
     "output_type": "execute_result"
    }
   ],
   "source": [
    "rules[1:5]"
   ]
  },
  {
   "cell_type": "code",
   "execution_count": 9,
   "metadata": {},
   "outputs": [
    {
     "name": "stdout",
     "output_type": "stream",
     "text": [
      "Rule: chicken => light cream  Support: 0.005  Confidence: 0.291  Lift: 4.844\n",
      "=====================================\n",
      "Rule: escalope => mushroom cream sauce  Support: 0.006  Confidence: 0.301  Lift: 3.791\n",
      "=====================================\n",
      "Rule: pasta => escalope  Support: 0.006  Confidence: 0.373  Lift: 4.701\n",
      "=====================================\n",
      "Rule: ground beef => herb & pepper  Support: 0.016  Confidence: 0.323  Lift: 3.292\n",
      "=====================================\n",
      "Rule: ground beef => tomato sauce  Support: 0.005  Confidence: 0.377  Lift: 3.841\n",
      "=====================================\n",
      "Rule: whole wheat pasta => olive oil  Support: 0.008  Confidence: 0.271  Lift: 4.122\n",
      "=====================================\n",
      "Rule: pasta => shrimp  Support: 0.005  Confidence: 0.322  Lift: 4.507\n",
      "=====================================\n",
      "Rule: chicken => nan  Support: 0.005  Confidence: 0.291  Lift: 4.844\n",
      "=====================================\n",
      "Rule: chocolate => shrimp  Support: 0.005  Confidence: 0.233  Lift: 3.255\n",
      "=====================================\n",
      "Rule: ground beef => spaghetti  Support: 0.005  Confidence: 0.571  Lift: 3.282\n",
      "=====================================\n",
      "Rule: escalope => mushroom cream sauce  Support: 0.006  Confidence: 0.301  Lift: 3.791\n",
      "=====================================\n",
      "Rule: pasta => escalope  Support: 0.006  Confidence: 0.373  Lift: 4.701\n",
      "=====================================\n",
      "Rule: ground beef => spaghetti  Support: 0.009  Confidence: 0.311  Lift: 3.165\n",
      "=====================================\n",
      "Rule: olive oil => milk  Support: 0.005  Confidence: 0.203  Lift: 3.088\n",
      "=====================================\n",
      "Rule: shrimp => mineral water  Support: 0.007  Confidence: 0.305  Lift: 3.201\n",
      "=====================================\n",
      "Rule: olive oil => spaghetti  Support: 0.006  Confidence: 0.206  Lift: 3.124\n",
      "=====================================\n",
      "Rule: spaghetti => shrimp  Support: 0.006  Confidence: 0.215  Lift: 3.013\n",
      "=====================================\n",
      "Rule: tomatoes => spaghetti  Support: 0.007  Confidence: 0.239  Lift: 3.498\n",
      "=====================================\n",
      "Rule: ground beef => grated cheese  Support: 0.005  Confidence: 0.323  Lift: 3.283\n",
      "=====================================\n",
      "Rule: ground beef => herb & pepper  Support: 0.007  Confidence: 0.391  Lift: 3.976\n",
      "=====================================\n",
      "Rule: ground beef => nan  Support: 0.016  Confidence: 0.323  Lift: 3.292\n",
      "=====================================\n",
      "Rule: ground beef => herb & pepper  Support: 0.006  Confidence: 0.393  Lift: 4.004\n",
      "=====================================\n",
      "Rule: ground beef => olive oil  Support: 0.005  Confidence: 0.224  Lift: 3.405\n",
      "=====================================\n",
      "Rule: ground beef => nan  Support: 0.005  Confidence: 0.377  Lift: 3.841\n",
      "=====================================\n",
      "Rule: ground beef => spaghetti  Support: 0.006  Confidence: 0.523  Lift: 3.005\n",
      "=====================================\n",
      "Rule: olive oil => spaghetti  Support: 0.007  Confidence: 0.203  Lift: 3.083\n",
      "=====================================\n",
      "Rule: olive oil => soup  Support: 0.005  Confidence: 0.225  Lift: 3.423\n",
      "=====================================\n",
      "Rule: whole wheat pasta => nan  Support: 0.008  Confidence: 0.271  Lift: 4.131\n",
      "=====================================\n",
      "Rule: pasta => nan  Support: 0.005  Confidence: 0.322  Lift: 4.515\n",
      "=====================================\n",
      "Rule: pancakes => olive oil  Support: 0.005  Confidence: 0.201  Lift: 3.053\n",
      "=====================================\n",
      "Rule: nan => chocolate  Support: 0.005  Confidence: 0.233  Lift: 3.261\n",
      "=====================================\n",
      "Rule: ground beef => nan  Support: 0.005  Confidence: 0.571  Lift: 3.282\n",
      "=====================================\n",
      "Rule: ground beef => nan  Support: 0.009  Confidence: 0.311  Lift: 3.165\n",
      "=====================================\n",
      "Rule: spaghetti => milk  Support: 0.005  Confidence: 0.288  Lift: 3.023\n",
      "=====================================\n",
      "Rule: nan => olive oil  Support: 0.005  Confidence: 0.203  Lift: 3.095\n",
      "=====================================\n",
      "Rule: nan => shrimp  Support: 0.007  Confidence: 0.305  Lift: 3.201\n",
      "=====================================\n",
      "Rule: nan => olive oil  Support: 0.006  Confidence: 0.206  Lift: 3.13\n",
      "=====================================\n",
      "Rule: nan => spaghetti  Support: 0.006  Confidence: 0.215  Lift: 3.019\n",
      "=====================================\n",
      "Rule: nan => spaghetti  Support: 0.007  Confidence: 0.239  Lift: 3.498\n",
      "=====================================\n",
      "Rule: ground beef => grated cheese  Support: 0.005  Confidence: 0.323  Lift: 3.283\n",
      "=====================================\n",
      "Rule: ground beef => nan  Support: 0.007  Confidence: 0.391  Lift: 3.976\n",
      "=====================================\n",
      "Rule: ground beef => nan  Support: 0.006  Confidence: 0.393  Lift: 4.004\n",
      "=====================================\n",
      "Rule: ground beef => nan  Support: 0.005  Confidence: 0.224  Lift: 3.412\n",
      "=====================================\n",
      "Rule: ground beef => nan  Support: 0.006  Confidence: 0.523  Lift: 3.005\n",
      "=====================================\n",
      "Rule: nan => olive oil  Support: 0.007  Confidence: 0.203  Lift: 3.089\n",
      "=====================================\n",
      "Rule: nan => olive oil  Support: 0.005  Confidence: 0.225  Lift: 3.43\n",
      "=====================================\n",
      "Rule: pancakes => nan  Support: 0.005  Confidence: 0.201  Lift: 3.059\n",
      "=====================================\n",
      "Rule: spaghetti => milk  Support: 0.005  Confidence: 0.288  Lift: 3.023\n",
      "=====================================\n"
     ]
    }
   ],
   "source": [
    "for item in rules:\n",
    "    \n",
    "    # first index of the inner list\n",
    "    # Contains base item and add item\n",
    "    pair = item[0] \n",
    "    items = [x for x in pair]\n",
    "    #if (pair is not None and items[1] is not None):\n",
    "    print(\"Rule: \" + items[0] + \" => \" + items[1] + '  Support: ' + str(round(item[1],3)) \n",
    "          + '  Confidence: '+ str(round(item[2][0][2],3)) + '  Lift: ' + str(round(item[2][0][3],3)))\n",
    "    #print(\"Rule: \" + items[0] + \" => \" + items[1] )\n",
    "    #second index of the inner list\n",
    "    #print(\"Support: \" + str(item[1]))\n",
    "\n",
    "    #third index of the list located at 0th\n",
    "    #of the third index of the inner list\n",
    "\n",
    "    #print(\"Confidence: \" + str(item[2][0][2]))\n",
    "    #print(\"Lift: \" + str(item[2][0][3]))\n",
    "    print(\"=====================================\")"
   ]
  },
  {
   "cell_type": "code",
   "execution_count": null,
   "metadata": {},
   "outputs": [],
   "source": []
  }
 ],
 "metadata": {
  "kernelspec": {
   "display_name": "Python 3",
   "language": "python",
   "name": "python3"
  },
  "language_info": {
   "codemirror_mode": {
    "name": "ipython",
    "version": 3
   },
   "file_extension": ".py",
   "mimetype": "text/x-python",
   "name": "python",
   "nbconvert_exporter": "python",
   "pygments_lexer": "ipython3",
   "version": "3.7.3"
  }
 },
 "nbformat": 4,
 "nbformat_minor": 4
}
